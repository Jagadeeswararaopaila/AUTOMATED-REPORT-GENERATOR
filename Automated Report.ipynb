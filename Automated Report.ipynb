{
 "cells": [
  {
   "cell_type": "code",
   "execution_count": null,
   "id": "fa12f480-b3cf-4957-9926-3e0aedfc1648",
   "metadata": {},
   "outputs": [
    {
     "name": "stdout",
     "output_type": "stream",
     "text": [
      "Requirement already satisfied: fpdf in c:\\users\\jagdesh\\anaconda3\\lib\\site-packages (1.7.2)\n",
      "Requirement already satisfied: pandas in c:\\users\\jagdesh\\anaconda3\\lib\\site-packages (2.2.2)\n",
      "Requirement already satisfied: numpy>=1.26.0 in c:\\users\\jagdesh\\anaconda3\\lib\\site-packages (from pandas) (1.26.4)\n",
      "Requirement already satisfied: python-dateutil>=2.8.2 in c:\\users\\jagdesh\\anaconda3\\lib\\site-packages (from pandas) (2.9.0.post0)\n",
      "Requirement already satisfied: pytz>=2020.1 in c:\\users\\jagdesh\\anaconda3\\lib\\site-packages (from pandas) (2024.1)\n",
      "Requirement already satisfied: tzdata>=2022.7 in c:\\users\\jagdesh\\anaconda3\\lib\\site-packages (from pandas) (2023.3)\n",
      "Requirement already satisfied: six>=1.5 in c:\\users\\jagdesh\\anaconda3\\lib\\site-packages (from python-dateutil>=2.8.2->pandas) (1.16.0)\n"
     ]
    }
   ],
   "source": [
    "!pip  install fpdf pandas\n"
   ]
  },
  {
   "cell_type": "code",
   "execution_count": 4,
   "id": "f92fb9fa-9613-4212-aa57-928cd41f8393",
   "metadata": {},
   "outputs": [
    {
     "name": "stdout",
     "output_type": "stream",
     "text": [
      "PDF report generated successfully!\n"
     ]
    }
   ],
   "source": [
    "import pandas as pd\n",
    "from fpdf import FPDF\n",
    "from datetime import datetime\n",
    "\n",
    "data = pd.DataFrame({\n",
    "    'Name': ['Sai', 'trinadh', 'Balayya', 'Jagadeeswararao', 'Venu'],\n",
    "    'Score': [85, 90, 78, 92, 88]\n",
    "})\n",
    "\n",
    "average_score = data[\"Score\"].mean()\n",
    "topper = data.loc[data[\"Score\"].idxmax()]\n",
    "\n",
    "class PDF(FPDF):\n",
    "    def header(self):\n",
    "        self.set_font(\"Arial\", \"B\", 16)\n",
    "        self.cell(0, 10, \"Student Score Report\", ln=1, align=\"C\")\n",
    "        self.ln(5)\n",
    "\n",
    "    def footer(self):\n",
    "        self.set_y(-15)\n",
    "        self.set_font(\"Arial\", \"I\", 8)\n",
    "        self.cell(0, 10, f\"Page {self.page_no()}\", 0, 0, \"C\")\n",
    "\n",
    "pdf = PDF()\n",
    "pdf.add_page()\n",
    "pdf.set_font(\"Arial\", \"\", 12)\n",
    "pdf.cell(0, 10, f\"Report generated on: {datetime.now()}\", ln=1)\n",
    "pdf.cell(0, 10, f\"Average Score: {average_score:.2f}\", ln=1)\n",
    "pdf.cell(0, 10, f\"Top Performer: {topper['Name']} with a score of {topper['Score']}\", ln=1)\n",
    "pdf.ln(10)\n",
    "\n",
    "pdf.set_font(\"Arial\", \"B\", 12)\n",
    "pdf.cell(60, 10, \"Name\", 1)\n",
    "pdf.cell(60, 10, \"Score\", 1)\n",
    "pdf.ln()\n",
    "\n",
    "pdf.set_font(\"Arial\", \"\", 12)\n",
    "for index, row in data.iterrows():\n",
    "    pdf.cell(60, 10, row[\"Name\"], 1)\n",
    "    pdf.cell(60, 10, str(row[\"Score\"]), 1)\n",
    "    pdf.ln()\n",
    "\n",
    "pdf.output(\"score_report.pdf\")\n",
    "print(\"PDF report generated successfully!\")\n"
   ]
  }
 ],
 "metadata": {
  "kernelspec": {
   "display_name": "Python [conda env:base] *",
   "language": "python",
   "name": "conda-base-py"
  },
  "language_info": {
   "codemirror_mode": {
    "name": "ipython",
    "version": 3
   },
   "file_extension": ".py",
   "mimetype": "text/x-python",
   "name": "python",
   "nbconvert_exporter": "python",
   "pygments_lexer": "ipython3",
   "version": "3.12.7"
  }
 },
 "nbformat": 4,
 "nbformat_minor": 5
}
